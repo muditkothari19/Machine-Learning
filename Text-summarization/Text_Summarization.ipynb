{
  "cells": [
    {
      "cell_type": "markdown",
      "metadata": {
        "id": "nsEy091alq7s"
      },
      "source": [
        "<a href=\"http://colab.research.google.com/github/dipanjanS/nlp_workshop_odsc19/blob/master/Module05%20-%20NLP%20Applications/Project06%20-%20Text%20Summarization.ipynb\" target=\"_parent\"><img src=\"https://colab.research.google.com/assets/colab-badge.svg\" alt=\"Open In Colab\"/></a>"
      ]
    },
    {
      "cell_type": "code",
      "execution_count": 7,
      "metadata": {
        "colab": {
          "base_uri": "https://localhost:8080/"
        },
        "id": "7TKqj2jxDWjN",
        "outputId": "21018540-bc9d-4689-9e89-b2a59597568a"
      },
      "outputs": [
        {
          "ename": "ModuleNotFoundError",
          "evalue": "No module named 'nltk'",
          "output_type": "error",
          "traceback": [
            "\u001b[1;31m---------------------------------------------------------------------------\u001b[0m",
            "\u001b[1;31mModuleNotFoundError\u001b[0m                       Traceback (most recent call last)",
            "Cell \u001b[1;32mIn[7], line 1\u001b[0m\n\u001b[1;32m----> 1\u001b[0m \u001b[39mimport\u001b[39;00m \u001b[39mnltk\u001b[39;00m\n\u001b[0;32m      2\u001b[0m nltk\u001b[39m.\u001b[39mdownload(\u001b[39m'\u001b[39m\u001b[39mpunkt\u001b[39m\u001b[39m'\u001b[39m)\n\u001b[0;32m      3\u001b[0m nltk\u001b[39m.\u001b[39mdownload(\u001b[39m'\u001b[39m\u001b[39mstopwords\u001b[39m\u001b[39m'\u001b[39m)\n",
            "\u001b[1;31mModuleNotFoundError\u001b[0m: No module named 'nltk'"
          ]
        }
      ],
      "source": [
        "import nltk\n",
        "nltk.download('punkt')\n",
        "nltk.download('stopwords')"
      ]
    },
    {
      "cell_type": "markdown",
      "metadata": {
        "id": "ALORmnKslq78"
      },
      "source": [
        "# Get Text Document\n",
        "\n",
        "We use the description of a very popular role-playing game (RPG) Skyrim from\n",
        "Bethesda Softworks for summarization."
      ]
    },
    {
      "cell_type": "code",
      "execution_count": 5,
      "metadata": {
        "id": "-sSrjtPxCZeq"
      },
      "outputs": [],
      "source": [
        "DOCUMENT = \"\"\"\n",
        "The Elder Scrolls V: Skyrim is an action role-playing video game developed by Bethesda Game Studios\n",
        "and published by Bethesda Softworks. It is the fifth main installment in The Elder Scrolls series,\n",
        "following The Elder Scrolls IV: Oblivion.\n",
        "The game's main story revolves around the player character's quest to defeat Alduin the World-Eater,\n",
        "a dragon who is prophesied to destroy the world. The game is set 200 years after the events of Oblivion\n",
        "and takes place in the fictional province of Skyrim. Over the course of the game, the player completes\n",
        "quests and develops the character by improving skills. The game continues the open-world tradition of\n",
        "its predecessors by allowing the player to travel anywhere in the game world at any time, and to ignore\n",
        "or postpone the main storyline indefinitely.\n",
        "The team opted for a unique and more diverse open world than Oblivion's Imperial Province of Cyrodiil,\n",
        "which game director and executive producer Todd Howard considered less interesting by comparison.\n",
        "The game was released to critical acclaim, with reviewers particularly mentioning the character advancement\n",
        "and setting, and is considered to be one of the greatest video games of all time.\n",
        "\n",
        "\n",
        "The Elder Scrolls V: Skyrim is an action role-playing game, playable from either a first or\n",
        "third-person perspective. The player may freely roam over the land of Skyrim which is an open world\n",
        "environment consisting of wilderness expanses, dungeons, cities, towns, fortresses, and villages.\n",
        "Players may navigate the game world more quickly by riding horses or by utilizing a fast-travel system\n",
        "which allows them to warp to previously discovered locations. The game's main quest can be completed or\n",
        "ignored at the player's preference after the first stage of the quest is finished. However, some quests\n",
        "rely on the main storyline being at least partially completed. Non-player characters (NPCs) populate the\n",
        "world and can be interacted with in a number of ways: the player may engage them in conversation,\n",
        "marry an eligible NPC, kill them or engage in a nonlethal \"brawl\". The player may\n",
        "choose to join factions which are organized groups of NPCs — for example, the Dark Brotherhood, a band\n",
        "of assassins. Each of the factions has an associated quest path to progress through. Each city and town\n",
        "in the game world has jobs that the player can engage in, such as farming.\n",
        "\n",
        "Players have the option to develop their character. At the beginning of the game, players create\n",
        "their character by selecting their sex and choosing between one of several races including humans,\n",
        "orcs, elves, and anthropomorphic cat or lizard-like creatures and then customizing their character's\n",
        "appearance. Over the course of the game, players improve their character's skills which are numerical\n",
        "representations of their ability in certain areas. There are eighteen skills divided evenly among the\n",
        "three schools of combat, magic, and stealth. When players have trained skills enough to meet the\n",
        "required experience, their character levels up. Health is depleted primarily when the player\n",
        "takes damage and the loss of all health results in death. Magicka is depleted by the use of spells,\n",
        "certain poisons and by being struck by lightning-based attacks. Stamina determines the player's\n",
        "effectiveness in combat and is depleted by sprinting, performing heavy \"power attacks\"\n",
        "and being struck by frost-based attacks. Skyrim is the first entry in The Elder Scrolls to\n",
        "include dragons in the game's wilderness. Like other creatures, dragons are generated randomly in\n",
        "the world and will engage in combat with NPCs, creatures and the player. Some dragons may attack\n",
        "cities and towns when in their proximity. The player character can absorb the souls of dragons\n",
        "in order to use powerful spells called \"dragon shouts\" or \"Thu'um\". A regeneration\n",
        "period limits the player's use of shouts in gameplay.\n",
        "\n",
        "Skyrim is set around 200 years after the events of The Elder Scrolls IV: Oblivion, although it is\n",
        "not a direct sequel. The game takes place in Skyrim, a province of the Empire on the continent of\n",
        "Tamriel, amid a civil war between two factions: the Stormcloaks, led by Ulfric Stormcloak, and the\n",
        "Imperial Legion, led by General Tullius. The player character is a Dragonborn, a mortal born with\n",
        "the soul and power of a dragon. Alduin, a large black dragon who returns to the land after being\n",
        "lost in time, serves as the game's primary antagonist. Alduin is the first dragon created by Akatosh,\n",
        "one of the series' gods, and is prophesied to destroy and consume the world.\n",
        "\"\"\""
      ]
    },
    {
      "cell_type": "code",
      "execution_count": 16,
      "metadata": {
        "id": "-Sp4ZBphDBTy"
      },
      "outputs": [],
      "source": [
        "import re\n",
        "\n",
        "DOCUMENT = re.sub(r'\\n|\\r', ' ', DOCUMENT)\n",
        "DOCUMENT = re.sub(r' +', ' ', DOCUMENT)\n",
        "DOCUMENT = DOCUMENT.strip()"
      ]
    },
    {
      "cell_type": "markdown",
      "metadata": {
        "id": "jvoZpDy-lq8B"
      },
      "source": [
        "# Summarization with Gensim\n",
        "\n",
        "Let’s look at an implementation of document summarization by leveraging Gensim’s\n",
        "summarization module. It is pretty straightforward."
      ]
    },
    {
      "cell_type": "code",
      "execution_count": 18,
      "metadata": {
        "colab": {
          "base_uri": "https://localhost:8080/",
          "height": 348
        },
        "id": "fJfaklbaDGm3",
        "outputId": "b1c0cee2-b303-4f86-8c11-9a6dd1bb0a4a"
      },
      "outputs": [
        {
          "ename": "ModuleNotFoundError",
          "evalue": "ignored",
          "output_type": "error",
          "traceback": [
            "\u001b[0;31m---------------------------------------------------------------------------\u001b[0m",
            "\u001b[0;31mModuleNotFoundError\u001b[0m                       Traceback (most recent call last)",
            "\u001b[0;32m<ipython-input-18-8da05ac8dbf3>\u001b[0m in \u001b[0;36m<cell line: 1>\u001b[0;34m()\u001b[0m\n\u001b[0;32m----> 1\u001b[0;31m \u001b[0;32mfrom\u001b[0m \u001b[0mgensim\u001b[0m\u001b[0;34m.\u001b[0m\u001b[0msummarization\u001b[0m \u001b[0;32mimport\u001b[0m \u001b[0msummarize\u001b[0m\u001b[0;34m\u001b[0m\u001b[0;34m\u001b[0m\u001b[0m\n\u001b[0m\u001b[1;32m      2\u001b[0m \u001b[0;34m\u001b[0m\u001b[0m\n\u001b[1;32m      3\u001b[0m \u001b[0mprint\u001b[0m\u001b[0;34m(\u001b[0m\u001b[0msummarize\u001b[0m\u001b[0;34m(\u001b[0m\u001b[0mDOCUMENT\u001b[0m\u001b[0;34m,\u001b[0m \u001b[0mratio\u001b[0m\u001b[0;34m=\u001b[0m\u001b[0;36m0.2\u001b[0m\u001b[0;34m,\u001b[0m \u001b[0msplit\u001b[0m\u001b[0;34m=\u001b[0m\u001b[0;32mFalse\u001b[0m\u001b[0;34m)\u001b[0m\u001b[0;34m)\u001b[0m\u001b[0;34m\u001b[0m\u001b[0;34m\u001b[0m\u001b[0m\n",
            "\u001b[0;31mModuleNotFoundError\u001b[0m: No module named 'gensim.summarization'",
            "",
            "\u001b[0;31m---------------------------------------------------------------------------\u001b[0;32m\nNOTE: If your import is failing due to a missing package, you can\nmanually install dependencies using either !pip or !apt.\n\nTo view examples of installing some common dependencies, click the\n\"Open Examples\" button below.\n\u001b[0;31m---------------------------------------------------------------------------\u001b[0m\n"
          ]
        }
      ],
      "source": [
        "from gensim.summarization import summarize\n",
        "\n",
        "print(summarize(DOCUMENT, ratio=0.2, split=False))"
      ]
    },
    {
      "cell_type": "code",
      "execution_count": null,
      "metadata": {
        "id": "7H83_YvADI2j"
      },
      "outputs": [],
      "source": [
        "print(summarize(DOCUMENT, word_count=75, split=False))"
      ]
    },
    {
      "cell_type": "code",
      "execution_count": null,
      "metadata": {
        "id": "N4ObNmxqDL1N"
      },
      "outputs": [],
      "source": [
        "sentences = nltk.sent_tokenize(DOCUMENT)\n",
        "len(sentences)"
      ]
    },
    {
      "cell_type": "markdown",
      "metadata": {
        "id": "KHuL3vqJlq8K"
      },
      "source": [
        "This summarization implementation from Gensim is based on a variation of\n",
        "a popular algorithm called TextRank."
      ]
    },
    {
      "cell_type": "markdown",
      "metadata": {
        "id": "f1P4KxQqlq8L"
      },
      "source": [
        "# Basic Text pre-processing"
      ]
    },
    {
      "cell_type": "code",
      "execution_count": null,
      "metadata": {
        "id": "HWTCv0YQDPYR"
      },
      "outputs": [],
      "source": [
        "import numpy as np\n",
        "\n",
        "stop_words = nltk.corpus.stopwords.words('english')\n",
        "\n",
        "def normalize_document(doc):\n",
        "    # lower case and remove special characters\\whitespaces\n",
        "    doc = re.sub(r'[^a-zA-Z\\s]', '', doc, re.I|re.A)\n",
        "    doc = doc.lower()\n",
        "    doc = doc.strip()\n",
        "    # tokenize document\n",
        "    tokens = nltk.word_tokenize(doc)\n",
        "    # filter stopwords out of document\n",
        "    filtered_tokens = [token for token in tokens if token not in stop_words]\n",
        "    # re-create document from filtered tokens\n",
        "    doc = ' '.join(filtered_tokens)\n",
        "    return doc\n",
        "\n",
        "normalize_corpus = np.vectorize(normalize_document)\n",
        "\n",
        "norm_sentences = normalize_corpus(sentences)\n",
        "norm_sentences[:3]"
      ]
    },
    {
      "cell_type": "markdown",
      "metadata": {
        "id": "aEoMtmcLlq8M"
      },
      "source": [
        "# Text Representation with Feature Engineering\n",
        "\n",
        "We will be vectorizing our normalized sentences using the TF-IDF feature engineering\n",
        "scheme. We keep things simple and don’t filter out any words based on document\n",
        "frequency. But feel free to try that out and maybe even leverage n-grams as features."
      ]
    },
    {
      "cell_type": "code",
      "execution_count": null,
      "metadata": {
        "id": "-aGDxNQyDpiY"
      },
      "outputs": [],
      "source": [
        "from sklearn.feature_extraction.text import TfidfVectorizer\n",
        "import pandas as pd\n",
        "\n",
        "tv = TfidfVectorizer(min_df=0., max_df=1., use_idf=True)\n",
        "dt_matrix = tv.fit_transform(norm_sentences)\n",
        "dt_matrix = dt_matrix.toarray()\n",
        "\n",
        "vocab = tv.get_feature_names()\n",
        "td_matrix = dt_matrix.T\n",
        "print(td_matrix.shape)\n",
        "pd.DataFrame(np.round(td_matrix, 2), index=vocab).head(10)"
      ]
    },
    {
      "cell_type": "code",
      "execution_count": null,
      "metadata": {
        "id": "gLmDllaUDxIV"
      },
      "outputs": [],
      "source": [
        "from scipy.sparse.linalg import svds\n",
        "\n",
        "def low_rank_svd(matrix, singular_count=2):\n",
        "    u, s, vt = svds(matrix, k=singular_count)\n",
        "    return u, s, vt"
      ]
    },
    {
      "cell_type": "code",
      "execution_count": null,
      "metadata": {
        "id": "dnkxRcQ8D08f"
      },
      "outputs": [],
      "source": [
        "num_sentences = 8\n",
        "num_topics = 3\n",
        "\n",
        "u, s, vt = low_rank_svd(td_matrix, singular_count=num_topics)\n",
        "print(u.shape, s.shape, vt.shape)\n",
        "term_topic_mat, singular_values, topic_document_mat = u, s, vt"
      ]
    },
    {
      "cell_type": "code",
      "execution_count": null,
      "metadata": {
        "id": "6Bo45Qj3D5SD"
      },
      "outputs": [],
      "source": [
        "# remove singular values below threshold\n",
        "sv_threshold = 0.5\n",
        "min_sigma_value = max(singular_values) * sv_threshold\n",
        "singular_values[singular_values < min_sigma_value] = 0"
      ]
    },
    {
      "cell_type": "code",
      "execution_count": null,
      "metadata": {
        "id": "1ItEFwCXD8qk"
      },
      "outputs": [],
      "source": [
        "salience_scores = np.sqrt(np.dot(np.square(singular_values),\n",
        "                                 np.square(topic_document_mat)))\n",
        "salience_scores"
      ]
    },
    {
      "cell_type": "code",
      "execution_count": null,
      "metadata": {
        "id": "xn9EjCGpFRCH"
      },
      "outputs": [],
      "source": [
        "top_sentence_indices = (-salience_scores).argsort()[:num_sentences]\n",
        "top_sentence_indices.sort()"
      ]
    },
    {
      "cell_type": "code",
      "execution_count": null,
      "metadata": {
        "id": "QLjP9KgbFUNi"
      },
      "outputs": [],
      "source": [
        "print('\\n'.join(np.array(sentences)[top_sentence_indices]))"
      ]
    },
    {
      "cell_type": "markdown",
      "metadata": {
        "id": "g6qcsGvelq8S"
      },
      "source": [
        "# Build Similarity Matrix"
      ]
    },
    {
      "cell_type": "code",
      "execution_count": null,
      "metadata": {
        "id": "iwy27oUUFVwC"
      },
      "outputs": [],
      "source": [
        "similarity_matrix = np.matmul(dt_matrix, dt_matrix.T)\n",
        "print(similarity_matrix.shape)\n",
        "np.round(similarity_matrix, 3)"
      ]
    },
    {
      "cell_type": "markdown",
      "metadata": {
        "id": "_e5jzM1slq8U"
      },
      "source": [
        "# Build Similarity Graph"
      ]
    },
    {
      "cell_type": "code",
      "execution_count": null,
      "metadata": {
        "id": "3XKLLMxVFZFu"
      },
      "outputs": [],
      "source": [
        "import networkx\n",
        "\n",
        "similarity_graph = networkx.from_numpy_array(similarity_matrix)\n",
        "similarity_graph"
      ]
    },
    {
      "cell_type": "code",
      "execution_count": null,
      "metadata": {
        "id": "s8hGp-gQFbOs"
      },
      "outputs": [],
      "source": [
        "import matplotlib.pyplot as plt\n",
        "%matplotlib inline\n",
        "\n",
        "plt.figure(figsize=(12, 6))\n",
        "networkx.draw_networkx(similarity_graph, node_color='lime')"
      ]
    },
    {
      "cell_type": "markdown",
      "metadata": {
        "id": "F9xdSM2Rlq8V"
      },
      "source": [
        "# Get Sentence Importance Scores"
      ]
    },
    {
      "cell_type": "code",
      "execution_count": null,
      "metadata": {
        "id": "l9M9Wz2lFdej"
      },
      "outputs": [],
      "source": [
        "scores = networkx.pagerank(similarity_graph)\n",
        "ranked_sentences = sorted(((score, index) for index, score\n",
        "                                            in scores.items()),\n",
        "                          reverse=True)\n",
        "ranked_sentences[:10]"
      ]
    },
    {
      "cell_type": "code",
      "execution_count": null,
      "metadata": {
        "id": "62NO_yc0Ff5C"
      },
      "outputs": [],
      "source": [
        "top_sentence_indices = [ranked_sentences[index][1]\n",
        "                        for index in range(num_sentences)]\n",
        "top_sentence_indices.sort()"
      ]
    },
    {
      "cell_type": "code",
      "execution_count": null,
      "metadata": {
        "id": "idmgKnTuFiyg"
      },
      "outputs": [],
      "source": [
        "print('\\n'.join(np.array(sentences)[top_sentence_indices]))"
      ]
    }
  ],
  "metadata": {
    "colab": {
      "name": "Text Summarization.ipynb",
      "provenance": []
    },
    "kernelspec": {
      "display_name": "Python 3",
      "language": "python",
      "name": "python3"
    },
    "language_info": {
      "codemirror_mode": {
        "name": "ipython",
        "version": 3
      },
      "file_extension": ".py",
      "mimetype": "text/x-python",
      "name": "python",
      "nbconvert_exporter": "python",
      "pygments_lexer": "ipython3",
      "version": "3.11.4"
    }
  },
  "nbformat": 4,
  "nbformat_minor": 0
}
